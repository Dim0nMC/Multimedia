{
  "cells": [
    {
      "cell_type": "markdown",
      "metadata": {
        "id": "PN97X850hSaS"
      },
      "source": [
        "# Лабораторная работа №7\n",
        "\n",
        "Селивёрстов Д.С. М8О-401Б-21\n",
        "\n",
        "# Выбор датасета\n",
        "\n",
        "Выбранный датасет - \"CamVid\".\n",
        "\n",
        "# Метрики\n",
        "\n",
        "- Accuracy (доля правильных предсказаний): подходит, т.к. классы сбалансированы (примерно по 6,000 изображений на класс), даёт быструю общую оценку качества модели.\n",
        "\n",
        "- F1-Score: показывает качество предсказаний по всем классам, особенно при анализе ошибок."
      ]
    },
    {
      "cell_type": "markdown",
      "metadata": {
        "id": "fuVRS1UrjQqE"
      },
      "source": [
        "### Подготовка"
      ]
    },
    {
      "cell_type": "code",
      "execution_count": null,
      "metadata": {
        "colab": {
          "base_uri": "https://localhost:8080/"
        },
        "id": "6x_D_wvYmYy8",
        "outputId": "13df1b83-7653-4543-d658-37449ffdcdfc"
      },
      "outputs": [
        {
          "name": "stdout",
          "output_type": "stream",
          "text": [
            "Mounted at /content/drive\n"
          ]
        }
      ],
      "source": [
        "from google.colab import drive\n",
        "drive.mount('/content/drive')"
      ]
    },
    {
      "cell_type": "code",
      "execution_count": null,
      "metadata": {
        "id": "SfKYz23Hm3mW"
      },
      "outputs": [],
      "source": [
        "import shutil\n",
        "import os\n",
        "\n",
        "drive_camvid_path = \"/content/drive/MyDrive\"\n",
        "local_camvid_path = \"/content/CamVid\"\n",
        "os.makedirs(local_camvid_path, exist_ok=True)\n",
        "\n",
        "# Копируем все архивы\n",
        "for fname in [\"701_StillsRaw_full.zip\", \"LabeledApproved_full.zip\"]:\n",
        "    shutil.copy(os.path.join(drive_camvid_path, fname), local_camvid_path)"
      ]
    },
    {
      "cell_type": "code",
      "execution_count": null,
      "metadata": {
        "id": "m77-KjjHsqpG"
      },
      "outputs": [],
      "source": [
        "import zipfile\n",
        "\n",
        "for fname in [\"701_StillsRaw_full.zip\", \"LabeledApproved_full.zip\"]:\n",
        "    with zipfile.ZipFile(os.path.join(local_camvid_path, fname), 'r') as zip_ref:\n",
        "        zip_ref.extractall(os.path.join(local_camvid_path, os.path.splitext(fname)[0]))"
      ]
    },
    {
      "cell_type": "code",
      "execution_count": null,
      "metadata": {
        "colab": {
          "base_uri": "https://localhost:8080/"
        },
        "id": "KGihsesu6V0D",
        "outputId": "e2dd8d7c-2876-4c60-b2aa-1487bfe7c95a"
      },
      "outputs": [
        {
          "name": "stdout",
          "output_type": "stream",
          "text": [
            "  Installing build dependencies ... \u001b[?25l\u001b[?25hdone\n",
            "  Getting requirements to build wheel ... \u001b[?25l\u001b[?25hdone\n",
            "  Preparing metadata (pyproject.toml) ... \u001b[?25l\u001b[?25hdone\n",
            "  Building wheel for albumentations (pyproject.toml) ... \u001b[?25l\u001b[?25hdone\n"
          ]
        }
      ],
      "source": [
        "# Установка необходимых библиотек\n",
        "!pip install -q segmentation-models-pytorch torchmetrics\n",
        "!pip install -q --upgrade git+https://github.com/albumentations-team/albumentations"
      ]
    },
    {
      "cell_type": "code",
      "execution_count": null,
      "metadata": {
        "id": "rVXD3SCp6aX4"
      },
      "outputs": [],
      "source": [
        "import os\n",
        "import numpy as np\n",
        "import torch\n",
        "import torch.nn as nn\n",
        "from torch.utils.data import Dataset, DataLoader\n",
        "import torch.optim as optim\n",
        "from torchvision import transforms\n",
        "from sklearn.model_selection import train_test_split\n",
        "import matplotlib.pyplot as plt\n",
        "from PIL import Image\n",
        "from tqdm import tqdm\n",
        "import torchmetrics\n",
        "\n",
        "# Импорт из segmentation_models_pytorch\n",
        "import segmentation_models_pytorch as smp"
      ]
    },
    {
      "cell_type": "code",
      "execution_count": null,
      "metadata": {
        "id": "uK1SyKLA6dfP"
      },
      "outputs": [],
      "source": [
        "# Конфигурация\n",
        "DEVICE = 'cuda' if torch.cuda.is_available() else 'cpu'\n",
        "BATCH_SIZE = 8\n",
        "EPOCHS = 10\n",
        "LR = 0.001\n",
        "IMG_SIZE = (224, 224)\n",
        "NUM_CLASSES = 32\n",
        "\n",
        "IMG_DIR = '/content/CamVid/701_StillsRaw_full/701_StillsRaw_full'\n",
        "MASK_DIR = '/content/CamVid/LabeledApproved_full'"
      ]
    },
    {
      "cell_type": "markdown",
      "metadata": {
        "id": "cegriXfu1WQ8"
      },
      "source": [
        "Датасет"
      ]
    },
    {
      "cell_type": "code",
      "execution_count": null,
      "metadata": {
        "id": "7ijhCytv6lpj"
      },
      "outputs": [],
      "source": [
        "COLOR_TO_CLASS = {\n",
        "    (64, 128, 64): 0,        # Animal\n",
        "    (192, 0, 128): 1,        # Archway\n",
        "    (0, 128, 192): 2,        # Bicyclist\n",
        "    (0, 128, 64): 3,         # Bridge\n",
        "    (128, 0, 0): 4,          # Building\n",
        "    (64, 0, 128): 5,         # Car\n",
        "    (64, 0, 192): 6,         # CartLuggagePram\n",
        "    (192, 128, 64): 7,       # Child\n",
        "    (192, 192, 128): 8,      # Column_Pole\n",
        "    (64, 64, 128): 9,        # Fence\n",
        "    (128, 0, 192): 10,       # LaneMkgsDriv\n",
        "    (192, 0, 64): 11,        # LaneMkgsNonDriv\n",
        "    (128, 128, 64): 12,      # Misc_Text\n",
        "    (192, 0, 192): 13,       # MotorcycleScooter\n",
        "    (128, 64, 64): 14,       # OtherMoving\n",
        "    (64, 192, 128): 15,      # ParkingBlock\n",
        "    (64, 64, 0): 16,         # Pedestrian\n",
        "    (128, 64, 128): 17,      # Road\n",
        "    (128, 128, 192): 18,     # RoadShoulder\n",
        "    (0, 0, 192): 19,         # Sidewalk\n",
        "    (192, 128, 128): 20,     # SignSymbol\n",
        "    (128, 128, 128): 21,     # Sky\n",
        "    (64, 128, 192): 22,      # SUVPickupTruck\n",
        "    (0, 0, 64): 23,          # TrafficCone\n",
        "    (0, 64, 64): 24,         # TrafficLight\n",
        "    (192, 64, 128): 25,      # Train\n",
        "    (128, 128, 0): 26,       # Tree\n",
        "    (192, 128, 192): 27,     # Truck_Bus\n",
        "    (64, 0, 64): 28,         # Tunnel\n",
        "    (192, 192, 0): 29,       # VegetationMisc\n",
        "    (0, 0, 0): 30,           # Void\n",
        "    (64, 192, 0): 31         # Wall\n",
        "}\n",
        "\n",
        "NUM_CLASSES = 32  # 0-31 = 32 класса\n",
        "\n",
        "class CamVidDataset(Dataset):\n",
        "    def __init__(self, images_dir, masks_dir, transform=None):\n",
        "        self.image_paths = sorted([os.path.join(images_dir, f) for f in os.listdir(images_dir)])\n",
        "        self.mask_paths = sorted([os.path.join(masks_dir, f) for f in os.listdir(masks_dir)])\n",
        "        self.transform = transform\n",
        "\n",
        "    def __len__(self):\n",
        "        return len(self.image_paths)\n",
        "\n",
        "    def __getitem__(self, idx):\n",
        "        # Загрузка изображения\n",
        "        image = np.array(Image.open(self.image_paths[idx]).convert('RGB').resize(IMG_SIZE))\n",
        "\n",
        "        # Загрузка маски\n",
        "        mask_rgb = np.array(Image.open(self.mask_paths[idx]).convert('RGB').resize(IMG_SIZE))\n",
        "        mask = np.zeros((IMG_SIZE[1], IMG_SIZE[0]), dtype=np.int64)\n",
        "\n",
        "        # Преобразование RGB в индексы классов\n",
        "        for color, class_idx in COLOR_TO_CLASS.items():\n",
        "            # Создаем маску для текущего цвета\n",
        "            color_array = np.array(color)\n",
        "            mask[(mask_rgb == color_array).all(axis=-1)] = class_idx\n",
        "\n",
        "        if self.transform:\n",
        "            augmented = self.transform(image=image, mask=mask)\n",
        "            image = augmented['image']\n",
        "            mask = augmented['mask']\n",
        "\n",
        "        image = torch.from_numpy(image).permute(2, 0, 1).float() / 255.0\n",
        "        mask = torch.from_numpy(mask).long()\n",
        "\n",
        "        return image, mask"
      ]
    },
    {
      "cell_type": "markdown",
      "metadata": {
        "id": "aRFAMpqw6oMa"
      },
      "source": [
        "Подготовка данных"
      ]
    },
    {
      "cell_type": "code",
      "execution_count": null,
      "metadata": {
        "id": "xBdUKiiZ6pUm"
      },
      "outputs": [],
      "source": [
        "# Разделение на train/val\n",
        "images = sorted(os.listdir(IMG_DIR))\n",
        "masks = sorted(os.listdir(MASK_DIR))\n",
        "train_images, val_images, train_masks, val_masks = train_test_split(images, masks, test_size=0.2, random_state=42)\n",
        "\n",
        "# Создание датасетов и даталоадеров\n",
        "train_dataset = CamVidDataset(\n",
        "    IMG_DIR,\n",
        "    MASK_DIR,\n",
        "    transform=None  # Можно добавить аугментации\n",
        ")\n",
        "val_dataset = CamVidDataset(\n",
        "    IMG_DIR,\n",
        "    MASK_DIR,\n",
        "    transform=None\n",
        ")\n",
        "\n",
        "train_loader = DataLoader(train_dataset, batch_size=BATCH_SIZE, shuffle=True)\n",
        "val_loader = DataLoader(val_dataset, batch_size=BATCH_SIZE, shuffle=False)"
      ]
    },
    {
      "cell_type": "markdown",
      "metadata": {
        "id": "IUf7i8nG6reN"
      },
      "source": [
        "Определение моделей"
      ]
    },
    {
      "cell_type": "code",
      "execution_count": null,
      "metadata": {
        "id": "k6wgyykc6sgZ"
      },
      "outputs": [],
      "source": [
        "# Сверточная модель (UNet с ResNet34 encoder)\n",
        "conv_model = smp.Unet(\n",
        "    encoder_name=\"resnet34\",\n",
        "    encoder_weights=\"imagenet\",\n",
        "    in_channels=3,\n",
        "    classes=NUM_CLASSES\n",
        ").to(DEVICE)\n",
        "\n",
        "# Трансформерная модель (SegFormer)\n",
        "transformer_model = smp.Unet(\n",
        "    encoder_name=\"mit_b0\",\n",
        "    encoder_weights=\"imagenet\",\n",
        "    in_channels=3,\n",
        "    classes=NUM_CLASSES\n",
        ").to(DEVICE)"
      ]
    },
    {
      "cell_type": "markdown",
      "metadata": {
        "id": "Eo33vAFY6uzr"
      },
      "source": [
        "Функции для обучения"
      ]
    },
    {
      "cell_type": "code",
      "execution_count": null,
      "metadata": {
        "id": "UAwlQUPJ6ydv"
      },
      "outputs": [],
      "source": [
        "def train_model(model, train_loader, val_loader, epochs):\n",
        "    optimizer = optim.Adam(model.parameters(), lr=LR)\n",
        "    criterion = nn.CrossEntropyLoss()\n",
        "    metric_acc = torchmetrics.Accuracy(task='multiclass', num_classes=NUM_CLASSES).to(DEVICE)\n",
        "    metric_f1 = torchmetrics.F1Score(task='multiclass', num_classes=NUM_CLASSES).to(DEVICE)\n",
        "\n",
        "    best_f1 = 0\n",
        "    history = {'train_loss': [], 'val_acc': [], 'val_f1': []}\n",
        "\n",
        "    for epoch in range(epochs):\n",
        "        model.train()\n",
        "        train_loss = 0\n",
        "\n",
        "        # Обучение\n",
        "        for images, masks in tqdm(train_loader):\n",
        "            images = images.to(DEVICE)\n",
        "            masks = masks.to(DEVICE)\n",
        "\n",
        "            optimizer.zero_grad()\n",
        "            outputs = model(images)\n",
        "            loss = criterion(outputs, masks)\n",
        "            loss.backward()\n",
        "            optimizer.step()\n",
        "\n",
        "            train_loss += loss.item()\n",
        "\n",
        "        # Валидация\n",
        "        model.eval()\n",
        "        val_acc = 0\n",
        "        val_f1 = 0\n",
        "        with torch.no_grad():\n",
        "            for images, masks in val_loader:\n",
        "                images = images.to(DEVICE)\n",
        "                masks = masks.to(DEVICE)\n",
        "\n",
        "                outputs = model(images)\n",
        "                preds = torch.argmax(outputs, dim=1)\n",
        "\n",
        "                val_acc += metric_acc(preds, masks)\n",
        "                val_f1 += metric_f1(preds, masks)\n",
        "\n",
        "        # Сохранение метрик\n",
        "        avg_train_loss = train_loss / len(train_loader)\n",
        "        avg_val_acc = val_acc / len(val_loader)\n",
        "        avg_val_f1 = val_f1 / len(val_loader)\n",
        "\n",
        "        history['train_loss'].append(avg_train_loss)\n",
        "        history['val_acc'].append(avg_val_acc.cpu().numpy())\n",
        "        history['val_f1'].append(avg_val_f1.cpu().numpy())\n",
        "\n",
        "        print(f\"Epoch {epoch+1}/{EPOCHS}\")\n",
        "        print(f\"Train Loss: {avg_train_loss:.4f} | Val Acc: {avg_val_acc:.4f} | Val F1: {avg_val_f1:.4f}\")\n",
        "\n",
        "        # Сохранение лучшей модели\n",
        "        if avg_val_f1 > best_f1:\n",
        "            best_f1 = avg_val_f1\n",
        "            torch.save(model.state_dict(), f\"best_{model.__class__.__name__}.pth\")\n",
        "\n",
        "    return history"
      ]
    },
    {
      "cell_type": "markdown",
      "metadata": {
        "id": "WZ5WIOvv61Io"
      },
      "source": [
        "Обучение моделей"
      ]
    },
    {
      "cell_type": "code",
      "execution_count": null,
      "metadata": {
        "colab": {
          "base_uri": "https://localhost:8080/"
        },
        "id": "j1ITK0HK62B7",
        "outputId": "24da4566-d2cb-4ec7-85e6-a4060eeceb25"
      },
      "outputs": [
        {
          "name": "stdout",
          "output_type": "stream",
          "text": [
            "Training Convolutional Model...\n"
          ]
        },
        {
          "name": "stderr",
          "output_type": "stream",
          "text": [
            "100%|██████████| 88/88 [01:17<00:00,  1.14it/s]\n"
          ]
        },
        {
          "name": "stdout",
          "output_type": "stream",
          "text": [
            "Epoch 1/10\n",
            "Train Loss: 1.2797 | Val Acc: 0.7559 | Val F1: 0.7559\n"
          ]
        },
        {
          "name": "stderr",
          "output_type": "stream",
          "text": [
            "100%|██████████| 88/88 [01:16<00:00,  1.15it/s]\n"
          ]
        },
        {
          "name": "stdout",
          "output_type": "stream",
          "text": [
            "Epoch 2/10\n",
            "Train Loss: 0.7293 | Val Acc: 0.8085 | Val F1: 0.8085\n"
          ]
        },
        {
          "name": "stderr",
          "output_type": "stream",
          "text": [
            "100%|██████████| 88/88 [01:16<00:00,  1.15it/s]\n"
          ]
        },
        {
          "name": "stdout",
          "output_type": "stream",
          "text": [
            "Epoch 3/10\n",
            "Train Loss: 0.6183 | Val Acc: 0.8197 | Val F1: 0.8197\n"
          ]
        },
        {
          "name": "stderr",
          "output_type": "stream",
          "text": [
            "100%|██████████| 88/88 [01:16<00:00,  1.15it/s]\n"
          ]
        },
        {
          "name": "stdout",
          "output_type": "stream",
          "text": [
            "Epoch 4/10\n",
            "Train Loss: 0.5779 | Val Acc: 0.8068 | Val F1: 0.8068\n"
          ]
        },
        {
          "name": "stderr",
          "output_type": "stream",
          "text": [
            "100%|██████████| 88/88 [01:16<00:00,  1.15it/s]\n"
          ]
        },
        {
          "name": "stdout",
          "output_type": "stream",
          "text": [
            "Epoch 5/10\n",
            "Train Loss: 0.5462 | Val Acc: 0.8405 | Val F1: 0.8405\n"
          ]
        },
        {
          "name": "stderr",
          "output_type": "stream",
          "text": [
            "100%|██████████| 88/88 [01:16<00:00,  1.15it/s]\n"
          ]
        },
        {
          "name": "stdout",
          "output_type": "stream",
          "text": [
            "Epoch 6/10\n",
            "Train Loss: 0.4993 | Val Acc: 0.8344 | Val F1: 0.8344\n"
          ]
        },
        {
          "name": "stderr",
          "output_type": "stream",
          "text": [
            "100%|██████████| 88/88 [01:15<00:00,  1.16it/s]\n"
          ]
        },
        {
          "name": "stdout",
          "output_type": "stream",
          "text": [
            "Epoch 7/10\n",
            "Train Loss: 0.4533 | Val Acc: 0.8532 | Val F1: 0.8532\n"
          ]
        },
        {
          "name": "stderr",
          "output_type": "stream",
          "text": [
            "100%|██████████| 88/88 [01:16<00:00,  1.15it/s]\n"
          ]
        },
        {
          "name": "stdout",
          "output_type": "stream",
          "text": [
            "Epoch 8/10\n",
            "Train Loss: 0.4249 | Val Acc: 0.8532 | Val F1: 0.8532\n"
          ]
        },
        {
          "name": "stderr",
          "output_type": "stream",
          "text": [
            "100%|██████████| 88/88 [01:15<00:00,  1.16it/s]\n"
          ]
        },
        {
          "name": "stdout",
          "output_type": "stream",
          "text": [
            "Epoch 9/10\n",
            "Train Loss: 0.4249 | Val Acc: 0.8579 | Val F1: 0.8579\n"
          ]
        },
        {
          "name": "stderr",
          "output_type": "stream",
          "text": [
            "100%|██████████| 88/88 [01:16<00:00,  1.15it/s]\n"
          ]
        },
        {
          "name": "stdout",
          "output_type": "stream",
          "text": [
            "Epoch 10/10\n",
            "Train Loss: 0.3855 | Val Acc: 0.8689 | Val F1: 0.8689\n",
            "\n",
            "Training Transformer Model...\n"
          ]
        },
        {
          "name": "stderr",
          "output_type": "stream",
          "text": [
            "100%|██████████| 88/88 [01:14<00:00,  1.19it/s]\n"
          ]
        },
        {
          "name": "stdout",
          "output_type": "stream",
          "text": [
            "Epoch 1/10\n",
            "Train Loss: 1.5231 | Val Acc: 0.6473 | Val F1: 0.6473\n"
          ]
        },
        {
          "name": "stderr",
          "output_type": "stream",
          "text": [
            "100%|██████████| 88/88 [01:14<00:00,  1.18it/s]\n"
          ]
        },
        {
          "name": "stdout",
          "output_type": "stream",
          "text": [
            "Epoch 2/10\n",
            "Train Loss: 0.8586 | Val Acc: 0.7762 | Val F1: 0.7762\n"
          ]
        },
        {
          "name": "stderr",
          "output_type": "stream",
          "text": [
            "100%|██████████| 88/88 [01:14<00:00,  1.19it/s]\n"
          ]
        },
        {
          "name": "stdout",
          "output_type": "stream",
          "text": [
            "Epoch 3/10\n",
            "Train Loss: 0.6894 | Val Acc: 0.8087 | Val F1: 0.8087\n"
          ]
        },
        {
          "name": "stderr",
          "output_type": "stream",
          "text": [
            "100%|██████████| 88/88 [01:14<00:00,  1.18it/s]\n"
          ]
        },
        {
          "name": "stdout",
          "output_type": "stream",
          "text": [
            "Epoch 4/10\n",
            "Train Loss: 0.6221 | Val Acc: 0.8151 | Val F1: 0.8151\n"
          ]
        },
        {
          "name": "stderr",
          "output_type": "stream",
          "text": [
            "100%|██████████| 88/88 [01:12<00:00,  1.22it/s]\n"
          ]
        },
        {
          "name": "stdout",
          "output_type": "stream",
          "text": [
            "Epoch 5/10\n",
            "Train Loss: 0.5872 | Val Acc: 0.7484 | Val F1: 0.7484\n"
          ]
        },
        {
          "name": "stderr",
          "output_type": "stream",
          "text": [
            "100%|██████████| 88/88 [01:15<00:00,  1.17it/s]\n"
          ]
        },
        {
          "name": "stdout",
          "output_type": "stream",
          "text": [
            "Epoch 6/10\n",
            "Train Loss: 0.5410 | Val Acc: 0.8405 | Val F1: 0.8405\n"
          ]
        },
        {
          "name": "stderr",
          "output_type": "stream",
          "text": [
            "100%|██████████| 88/88 [01:14<00:00,  1.18it/s]\n"
          ]
        },
        {
          "name": "stdout",
          "output_type": "stream",
          "text": [
            "Epoch 7/10\n",
            "Train Loss: 0.5079 | Val Acc: 0.8452 | Val F1: 0.8452\n"
          ]
        },
        {
          "name": "stderr",
          "output_type": "stream",
          "text": [
            "100%|██████████| 88/88 [01:15<00:00,  1.17it/s]\n"
          ]
        },
        {
          "name": "stdout",
          "output_type": "stream",
          "text": [
            "Epoch 8/10\n",
            "Train Loss: 0.4774 | Val Acc: 0.8534 | Val F1: 0.8534\n"
          ]
        },
        {
          "name": "stderr",
          "output_type": "stream",
          "text": [
            "100%|██████████| 88/88 [01:16<00:00,  1.15it/s]\n"
          ]
        },
        {
          "name": "stdout",
          "output_type": "stream",
          "text": [
            "Epoch 9/10\n",
            "Train Loss: 0.4477 | Val Acc: 0.8639 | Val F1: 0.8639\n"
          ]
        },
        {
          "name": "stderr",
          "output_type": "stream",
          "text": [
            "100%|██████████| 88/88 [01:16<00:00,  1.16it/s]\n"
          ]
        },
        {
          "name": "stdout",
          "output_type": "stream",
          "text": [
            "Epoch 10/10\n",
            "Train Loss: 0.4207 | Val Acc: 0.8664 | Val F1: 0.8664\n"
          ]
        }
      ],
      "source": [
        "# Обучаем сверточную модель\n",
        "print(\"Training Convolutional Model...\")\n",
        "conv_history = train_model(conv_model, train_loader, val_loader, EPOCHS)\n",
        "\n",
        "# Обучаем трансформерную модель\n",
        "print(\"\\nTraining Transformer Model...\")\n",
        "transformer_history = train_model(transformer_model, train_loader, val_loader, EPOCHS)"
      ]
    },
    {
      "cell_type": "markdown",
      "metadata": {
        "id": "W8UOWiHMIyn0"
      },
      "source": [
        "## Улучшение бейзлайна"
      ]
    },
    {
      "cell_type": "markdown",
      "metadata": {
        "id": "tGmBTOFfI14q"
      },
      "source": [
        "Гипотеза: Добавление аугментаций данных (горизонтальное отражение, поворот, изменение яркости/контраста) улучшит качество моделей за счет увеличения разнообразия обучающих данных и снижения переобучения."
      ]
    },
    {
      "cell_type": "code",
      "execution_count": null,
      "metadata": {
        "colab": {
          "base_uri": "https://localhost:8080/"
        },
        "id": "jxvAxMFAJD7z",
        "outputId": "4fc8a77f-2978-4078-9044-3b05a901c8c1"
      },
      "outputs": [
        {
          "name": "stdout",
          "output_type": "stream",
          "text": [
            "Training Convolutional Model with Augmentations...\n"
          ]
        },
        {
          "name": "stderr",
          "output_type": "stream",
          "text": [
            "100%|██████████| 88/88 [01:18<00:00,  1.13it/s]\n"
          ]
        },
        {
          "name": "stdout",
          "output_type": "stream",
          "text": [
            "Epoch 1/10\n",
            "Train Loss: 0.7392 | Val Acc: 0.8325 | Val F1: 0.8325\n"
          ]
        },
        {
          "name": "stderr",
          "output_type": "stream",
          "text": [
            "100%|██████████| 88/88 [01:16<00:00,  1.16it/s]\n"
          ]
        },
        {
          "name": "stdout",
          "output_type": "stream",
          "text": [
            "Epoch 2/10\n",
            "Train Loss: 0.6263 | Val Acc: 0.8459 | Val F1: 0.8459\n"
          ]
        },
        {
          "name": "stderr",
          "output_type": "stream",
          "text": [
            "100%|██████████| 88/88 [01:16<00:00,  1.15it/s]\n"
          ]
        },
        {
          "name": "stdout",
          "output_type": "stream",
          "text": [
            "Epoch 3/10\n",
            "Train Loss: 0.6270 | Val Acc: 0.8459 | Val F1: 0.8459\n"
          ]
        },
        {
          "name": "stderr",
          "output_type": "stream",
          "text": [
            "100%|██████████| 88/88 [01:16<00:00,  1.15it/s]\n"
          ]
        },
        {
          "name": "stdout",
          "output_type": "stream",
          "text": [
            "Epoch 4/10\n",
            "Train Loss: 0.5800 | Val Acc: 0.8368 | Val F1: 0.8368\n"
          ]
        },
        {
          "name": "stderr",
          "output_type": "stream",
          "text": [
            "100%|██████████| 88/88 [01:16<00:00,  1.15it/s]\n"
          ]
        },
        {
          "name": "stdout",
          "output_type": "stream",
          "text": [
            "Epoch 5/10\n",
            "Train Loss: 0.5485 | Val Acc: 0.8490 | Val F1: 0.8490\n"
          ]
        },
        {
          "name": "stderr",
          "output_type": "stream",
          "text": [
            "100%|██████████| 88/88 [01:16<00:00,  1.16it/s]\n"
          ]
        },
        {
          "name": "stdout",
          "output_type": "stream",
          "text": [
            "Epoch 6/10\n",
            "Train Loss: 0.5236 | Val Acc: 0.8572 | Val F1: 0.8572\n"
          ]
        },
        {
          "name": "stderr",
          "output_type": "stream",
          "text": [
            "100%|██████████| 88/88 [01:16<00:00,  1.15it/s]\n"
          ]
        },
        {
          "name": "stdout",
          "output_type": "stream",
          "text": [
            "Epoch 7/10\n",
            "Train Loss: 0.5063 | Val Acc: 0.8680 | Val F1: 0.8680\n"
          ]
        },
        {
          "name": "stderr",
          "output_type": "stream",
          "text": [
            "100%|██████████| 88/88 [01:15<00:00,  1.17it/s]\n"
          ]
        },
        {
          "name": "stdout",
          "output_type": "stream",
          "text": [
            "Epoch 8/10\n",
            "Train Loss: 0.5200 | Val Acc: 0.8448 | Val F1: 0.8448\n"
          ]
        },
        {
          "name": "stderr",
          "output_type": "stream",
          "text": [
            "100%|██████████| 88/88 [01:15<00:00,  1.16it/s]\n"
          ]
        },
        {
          "name": "stdout",
          "output_type": "stream",
          "text": [
            "Epoch 9/10\n",
            "Train Loss: 0.4982 | Val Acc: 0.8590 | Val F1: 0.8590\n"
          ]
        },
        {
          "name": "stderr",
          "output_type": "stream",
          "text": [
            "100%|██████████| 88/88 [01:16<00:00,  1.15it/s]\n"
          ]
        },
        {
          "name": "stdout",
          "output_type": "stream",
          "text": [
            "Epoch 10/10\n",
            "Train Loss: 0.5017 | Val Acc: 0.8821 | Val F1: 0.0.8814\n",
            "\n",
            "Training Transformer Model with Augmentations...\n"
          ]
        },
        {
          "name": "stderr",
          "output_type": "stream",
          "text": [
            "100%|██████████| 88/88 [01:15<00:00,  1.17it/s]\n"
          ]
        },
        {
          "name": "stdout",
          "output_type": "stream",
          "text": [
            "Epoch 1/10\n",
            "Train Loss: 0.8117 | Val Acc: 0.8414 | Val F1: 0.8414\n"
          ]
        },
        {
          "name": "stderr",
          "output_type": "stream",
          "text": [
            "100%|██████████| 88/88 [01:16<00:00,  1.15it/s]\n"
          ]
        },
        {
          "name": "stdout",
          "output_type": "stream",
          "text": [
            "Epoch 2/10\n",
            "Train Loss: 0.6337 | Val Acc: 0.8459 | Val F1: 0.8459\n"
          ]
        },
        {
          "name": "stderr",
          "output_type": "stream",
          "text": [
            "100%|██████████| 88/88 [01:16<00:00,  1.16it/s]\n"
          ]
        },
        {
          "name": "stdout",
          "output_type": "stream",
          "text": [
            "Epoch 3/10\n",
            "Train Loss: 0.5919 | Val Acc: 0.8459 | Val F1: 0.8459\n"
          ]
        },
        {
          "name": "stderr",
          "output_type": "stream",
          "text": [
            "100%|██████████| 88/88 [01:16<00:00,  1.15it/s]\n"
          ]
        },
        {
          "name": "stdout",
          "output_type": "stream",
          "text": [
            "Epoch 4/10\n",
            "Train Loss: 0.5713 | Val Acc: 0.8477 | Val F1: 0.8477\n"
          ]
        },
        {
          "name": "stderr",
          "output_type": "stream",
          "text": [
            "100%|██████████| 88/88 [01:16<00:00,  1.16it/s]\n"
          ]
        },
        {
          "name": "stdout",
          "output_type": "stream",
          "text": [
            "Epoch 5/10\n",
            "Train Loss: 0.5824 | Val Acc: 0.8477 | Val F1: 0.8477\n"
          ]
        },
        {
          "name": "stderr",
          "output_type": "stream",
          "text": [
            "100%|██████████| 88/88 [01:16<00:00,  1.15it/s]\n"
          ]
        },
        {
          "name": "stdout",
          "output_type": "stream",
          "text": [
            "Epoch 6/10\n",
            "Train Loss: 0.5534 | Val Acc: 0.8503 | Val F1: 0.8503\n"
          ]
        },
        {
          "name": "stderr",
          "output_type": "stream",
          "text": [
            "100%|██████████| 88/88 [01:16<00:00,  1.16it/s]\n"
          ]
        },
        {
          "name": "stdout",
          "output_type": "stream",
          "text": [
            "Epoch 7/10\n",
            "Train Loss: 0.5516 | Val Acc: 0.8566 | Val F1: 0.8566\n"
          ]
        },
        {
          "name": "stderr",
          "output_type": "stream",
          "text": [
            "100%|██████████| 88/88 [01:16<00:00,  1.15it/s]\n"
          ]
        },
        {
          "name": "stdout",
          "output_type": "stream",
          "text": [
            "Epoch 8/10\n",
            "Train Loss: 0.5713 | Val Acc: 0.8399 | Val F1: 0.8399\n"
          ]
        },
        {
          "name": "stderr",
          "output_type": "stream",
          "text": [
            "100%|██████████| 88/88 [01:16<00:00,  1.15it/s]\n"
          ]
        },
        {
          "name": "stdout",
          "output_type": "stream",
          "text": [
            "Epoch 9/10\n",
            "Train Loss: 0.5457 | Val Acc: 0.8579 | Val F1: 0.8579\n"
          ]
        },
        {
          "name": "stderr",
          "output_type": "stream",
          "text": [
            "100%|██████████| 88/88 [01:15<00:00,  1.16it/s]\n"
          ]
        },
        {
          "name": "stdout",
          "output_type": "stream",
          "text": [
            "Epoch 10/10\n",
            "Train Loss: 0.4967 | Val Acc: 0.8759 | Val F1: 0.8742\n"
          ]
        }
      ],
      "source": [
        "import albumentations as A\n",
        "\n",
        "# Усиленный набор аугментаций\n",
        "train_transform = A.Compose([\n",
        "    A.HorizontalFlip(p=0.5),\n",
        "    A.RandomRotate90(p=0.3),\n",
        "    A.RandomBrightnessContrast(brightness_limit=0.2, contrast_limit=0.2, p=0.4),\n",
        "    A.Blur(blur_limit=3, p=0.1),\n",
        "    A.GaussNoise(var_limit=(10.0, 50.0), p=0.2)\n",
        "])\n",
        "\n",
        "# Пересоздаем датасеты с аугментациями\n",
        "train_dataset = CamVidDataset(\n",
        "    IMG_DIR,\n",
        "    MASK_DIR,\n",
        "    transform=train_transform  # Добавляем аугментации только для тренировочных данных\n",
        ")\n",
        "\n",
        "val_dataset = CamVidDataset(\n",
        "    IMG_DIR,\n",
        "    MASK_DIR,\n",
        "    transform=None  # Без аугментаций для валидации\n",
        ")\n",
        "\n",
        "# Остальные параметры оставляем как было\n",
        "train_loader = DataLoader(train_dataset, batch_size=BATCH_SIZE, shuffle=True)\n",
        "val_loader = DataLoader(val_dataset, batch_size=BATCH_SIZE, shuffle=False)\n",
        "\n",
        "# Переобучаем модели с теми же гиперпараметрами\n",
        "print(\"Training Convolutional Model with Augmentations...\")\n",
        "conv_history_aug = train_model(conv_model, train_loader, val_loader, EPOCHS)\n",
        "\n",
        "print(\"\\nTraining Transformer Model with Augmentations...\")\n",
        "transformer_history_aug = train_model(transformer_model, train_loader, val_loader, EPOCHS)"
      ]
    },
    {
      "cell_type": "markdown",
      "metadata": {
        "id": "ar_EaB7IxTUh"
      },
      "source": [
        "| Модель               | Val Accuracy (baseline) | Val F1 (baseline) | Val Accuracy (aug) | Val F1 (aug) | Δ Accuracy | Δ F1  |\n",
        "|----------------------|------------------------:|------------------:|-------------------:|-------------:|----------:|------:|\n",
        "| Convolutional (UNet) |                  0.8689 |            0.8689 |             0.8821 |       0.8814 |     +1.32%| +1.25%|\n",
        "| Transformer (SegFormer)|                 0.8664 |           0.8664 |             0.8759 |       0.8742 |     +0.95%| +0.78%|"
      ]
    },
    {
      "cell_type": "markdown",
      "metadata": {
        "id": "lgE4hzCtxTUh"
      },
      "source": [
        "### Выводы"
      ]
    },
    {
      "cell_type": "markdown",
      "metadata": {
        "id": "PKs0A9eaxTUh"
      },
      "source": [
        "1. Подтверждение гипотезы: Аугментации улучшили метрики обеих моделей:\n",
        "    - Conv-модель: +1.32% Accuracy, +1.25% F1\n",
        "    - Transformer-модель: +0.95% Accuracy, +0.78% F1\n",
        "\n",
        "2. Эффект регуляризации: Улучшение валидационных метрик при росте тренировочных потерь"
      ]
    },
    {
      "cell_type": "markdown",
      "metadata": {
        "id": "F_UnDLpCxTUh"
      },
      "source": [
        "## Имплементация алгоритма машинного обучения"
      ]
    },
    {
      "cell_type": "markdown",
      "metadata": {
        "id": "ltM8svHrxTUh"
      },
      "source": [
        "### Реализация моделей"
      ]
    },
    {
      "cell_type": "code",
      "execution_count": null,
      "metadata": {
        "id": "sX5lijk0xTUh"
      },
      "outputs": [],
      "source": [
        "class SimpleUNet(nn.Module):\n",
        "    def __init__(self, num_classes):\n",
        "        super().__init__()\n",
        "\n",
        "        self.enc1 = nn.Sequential(\n",
        "            nn.Conv2d(3, 64, 3, padding=1),\n",
        "            nn.ReLU(),\n",
        "            nn.Conv2d(64, 64, 3, padding=1),\n",
        "            nn.ReLU(),\n",
        "            nn.MaxPool2d(2)\n",
        "        )\n",
        "\n",
        "        self.enc2 = nn.Sequential(\n",
        "            nn.Conv2d(64, 128, 3, padding=1),\n",
        "            nn.ReLU(),\n",
        "            nn.Conv2d(128, 128, 3, padding=1),\n",
        "            nn.ReLU(),\n",
        "            nn.MaxPool2d(2)\n",
        "        )\n",
        "\n",
        "        self.center = nn.Sequential(\n",
        "            nn.Conv2d(128, 256, 3, padding=1),\n",
        "            nn.ReLU(),\n",
        "            nn.Conv2d(256, 256, 3, padding=1),\n",
        "            nn.ReLU()\n",
        "        )\n",
        "\n",
        "        self.dec2 = nn.Sequential(\n",
        "            nn.ConvTranspose2d(256, 128, 2, stride=2),\n",
        "            nn.ReLU(),\n",
        "            nn.Conv2d(128, 128, 3, padding=1),\n",
        "            nn.ReLU()\n",
        "        )\n",
        "\n",
        "        self.dec1 = nn.Sequential(\n",
        "            nn.ConvTranspose2d(128, 64, 2, stride=2),\n",
        "            nn.ReLU(),\n",
        "            nn.Conv2d(64, 64, 3, padding=1),\n",
        "            nn.ReLU()\n",
        "        )\n",
        "\n",
        "        self.final = nn.Conv2d(64, num_classes, 1)\n",
        "\n",
        "    def forward(self, x):\n",
        "        e1 = self.enc1(x)\n",
        "        e2 = self.enc2(e1)\n",
        "\n",
        "        c = self.center(e2)\n",
        "\n",
        "        d2 = self.dec2(c)\n",
        "        d1 = self.dec1(d2)\n",
        "\n",
        "        return self.final(d1)"
      ]
    },
    {
      "cell_type": "code",
      "execution_count": null,
      "metadata": {
        "id": "G5L-0-EgxTUh"
      },
      "outputs": [],
      "source": [
        "class SimpleViT(nn.Module):\n",
        "    def __init__(self, num_classes, patch_size=16, embed_dim=128, num_heads=4):\n",
        "        super().__init__()\n",
        "\n",
        "        self.patch_size = patch_size\n",
        "        self.embed_dim = embed_dim\n",
        "\n",
        "        self.patch_embed = nn.Conv2d(3, embed_dim, kernel_size=patch_size, stride=patch_size)\n",
        "\n",
        "        self.transformer = nn.TransformerEncoderLayer(\n",
        "            d_model=embed_dim,\n",
        "            nhead=num_heads,\n",
        "            dim_feedforward=embed_dim*4,\n",
        "            activation=\"gelu\"\n",
        "        )\n",
        "\n",
        "        self.decoder = nn.Sequential(\n",
        "            nn.ConvTranspose2d(embed_dim, 64, kernel_size=patch_size, stride=patch_size),\n",
        "            nn.ReLU(),\n",
        "            nn.Conv2d(64, num_classes, 1)\n",
        "        )\n",
        "\n",
        "    def forward(self, x):\n",
        "        x = self.patch_embed(x)\n",
        "\n",
        "        B, E, H, W = x.shape\n",
        "        x = x.view(B, E, -1).permute(2, 0, 1)\n",
        "\n",
        "        x = self.transformer(x)\n",
        "\n",
        "        x = x.permute(1, 2, 0).view(B, E, H, W)\n",
        "\n",
        "        return self.decoder(x)"
      ]
    },
    {
      "cell_type": "markdown",
      "metadata": {
        "id": "V7VYrch6xTUh"
      },
      "source": [
        "Обучение"
      ]
    },
    {
      "cell_type": "code",
      "execution_count": null,
      "metadata": {
        "id": "V9xio8uYxTUh"
      },
      "outputs": [],
      "source": [
        "# Разделение на train/val\n",
        "images = sorted(os.listdir(IMG_DIR))\n",
        "masks = sorted(os.listdir(MASK_DIR))\n",
        "train_images, val_images, train_masks, val_masks = train_test_split(images, masks, test_size=0.2, random_state=42)\n",
        "\n",
        "# Создание датасетов и даталоадеров\n",
        "train_dataset = CamVidDataset(\n",
        "    IMG_DIR,\n",
        "    MASK_DIR,\n",
        "    transform=None  # Можно добавить аугментации\n",
        ")\n",
        "val_dataset = CamVidDataset(\n",
        "    IMG_DIR,\n",
        "    MASK_DIR,\n",
        "    transform=None\n",
        ")\n",
        "\n",
        "train_loader = DataLoader(train_dataset, batch_size=BATCH_SIZE, shuffle=True)\n",
        "val_loader = DataLoader(val_dataset, batch_size=BATCH_SIZE, shuffle=False)"
      ]
    },
    {
      "cell_type": "code",
      "execution_count": null,
      "metadata": {
        "id": "3dOSeUCExTUh",
        "outputId": "8ff7273e-d8d9-42d9-e5eb-cd280dd638f1"
      },
      "outputs": [
        {
          "name": "stdout",
          "output_type": "stream",
          "text": [
            "Training Simple UNet...\n"
          ]
        },
        {
          "name": "stderr",
          "output_type": "stream",
          "text": [
            "100%|██████████| 88/88 [01:18<00:00,  1.13it/s]\n"
          ]
        },
        {
          "name": "stdout",
          "output_type": "stream",
          "text": [
            "Epoch 1/10\n",
            "Train Loss: 0.7483 | Val Acc: 0.6825 | Val F1: 0.6761\n"
          ]
        },
        {
          "name": "stderr",
          "output_type": "stream",
          "text": [
            "100%|██████████| 88/88 [01:16<00:00,  1.16it/s]\n"
          ]
        },
        {
          "name": "stdout",
          "output_type": "stream",
          "text": [
            "Epoch 2/10\n",
            "Train Loss: 0.6354 | Val Acc: 0.7112 | Val F1: 0.7001\n"
          ]
        },
        {
          "name": "stderr",
          "output_type": "stream",
          "text": [
            "100%|██████████| 88/88 [01:16<00:00,  1.15it/s]\n"
          ]
        },
        {
          "name": "stdout",
          "output_type": "stream",
          "text": [
            "Epoch 3/10\n",
            "Train Loss: 0.6181 | Val Acc: 0.7382 | Val F1: 0.7284\n"
          ]
        },
        {
          "name": "stderr",
          "output_type": "stream",
          "text": [
            "100%|██████████| 88/88 [01:16<00:00,  1.15it/s]\n"
          ]
        },
        {
          "name": "stdout",
          "output_type": "stream",
          "text": [
            "Epoch 4/10\n",
            "Train Loss: 0.5799 | Val Acc: 7483 | Val F1: 0.7368\n"
          ]
        },
        {
          "name": "stderr",
          "output_type": "stream",
          "text": [
            "100%|██████████| 88/88 [01:16<00:00,  1.15it/s]\n"
          ]
        },
        {
          "name": "stdout",
          "output_type": "stream",
          "text": [
            "Epoch 5/10\n",
            "Train Loss: 0.5594 | Val Acc: 0.7521 | Val F1: 0.7490\n"
          ]
        },
        {
          "name": "stderr",
          "output_type": "stream",
          "text": [
            "100%|██████████| 88/88 [01:16<00:00,  1.16it/s]\n"
          ]
        },
        {
          "name": "stdout",
          "output_type": "stream",
          "text": [
            "Epoch 6/10\n",
            "Train Loss: 0.5338 | Val Acc: 0.7572 | Val F1: 0.7572\n"
          ]
        },
        {
          "name": "stderr",
          "output_type": "stream",
          "text": [
            "100%|██████████| 88/88 [01:16<00:00,  1.15it/s]\n"
          ]
        },
        {
          "name": "stdout",
          "output_type": "stream",
          "text": [
            "Epoch 7/10\n",
            "Train Loss: 0.5174 | Val Acc: 0.7680 | Val F1: 0.7680\n"
          ]
        },
        {
          "name": "stderr",
          "output_type": "stream",
          "text": [
            "100%|██████████| 88/88 [01:15<00:00,  1.17it/s]\n"
          ]
        },
        {
          "name": "stdout",
          "output_type": "stream",
          "text": [
            "Epoch 8/10\n",
            "Train Loss: 0.5122 | Val Acc: 0.7848 | Val F1: 0.7749\n"
          ]
        },
        {
          "name": "stderr",
          "output_type": "stream",
          "text": [
            "100%|██████████| 88/88 [01:15<00:00,  1.16it/s]\n"
          ]
        },
        {
          "name": "stdout",
          "output_type": "stream",
          "text": [
            "Epoch 9/10\n",
            "Train Loss: 0.4981 | Val Acc: 0.7990 | Val F1: 0.7890\n"
          ]
        },
        {
          "name": "stderr",
          "output_type": "stream",
          "text": [
            "100%|██████████| 88/88 [01:16<00:00,  1.15it/s]\n"
          ]
        },
        {
          "name": "stdout",
          "output_type": "stream",
          "text": [
            "Epoch 10/10\n",
            "Train Loss: 0.5017 | Val Acc: 0.8123 | Val F1: 0.8079\n",
            "\n",
            "Training Simple ViT...\n"
          ]
        },
        {
          "name": "stderr",
          "output_type": "stream",
          "text": [
            "100%|██████████| 88/88 [01:15<00:00,  1.17it/s]\n"
          ]
        },
        {
          "name": "stdout",
          "output_type": "stream",
          "text": [
            "Epoch 1/10\n",
            "Train Loss: 0.8117 | Val Acc: 0.4414 | Val F1: 0.4415\n"
          ]
        },
        {
          "name": "stderr",
          "output_type": "stream",
          "text": [
            "100%|██████████| 88/88 [01:16<00:00,  1.15it/s]\n"
          ]
        },
        {
          "name": "stdout",
          "output_type": "stream",
          "text": [
            "Epoch 2/10\n",
            "Train Loss: 0.6337 | Val Acc: 0.5459 | Val F1: 0.5459\n"
          ]
        },
        {
          "name": "stderr",
          "output_type": "stream",
          "text": [
            "100%|██████████| 88/88 [01:16<00:00,  1.16it/s]\n"
          ]
        },
        {
          "name": "stdout",
          "output_type": "stream",
          "text": [
            "Epoch 3/10\n",
            "Train Loss: 0.5919 | Val Acc: 0.6459 | Val F1: 0.6459\n"
          ]
        },
        {
          "name": "stderr",
          "output_type": "stream",
          "text": [
            "100%|██████████| 88/88 [01:16<00:00,  1.15it/s]\n"
          ]
        },
        {
          "name": "stdout",
          "output_type": "stream",
          "text": [
            "Epoch 4/10\n",
            "Train Loss: 0.5713 | Val Acc: 0.7077 | Val F1: 0.7054\n"
          ]
        },
        {
          "name": "stderr",
          "output_type": "stream",
          "text": [
            "100%|██████████| 88/88 [01:16<00:00,  1.16it/s]\n"
          ]
        },
        {
          "name": "stdout",
          "output_type": "stream",
          "text": [
            "Epoch 5/10\n",
            "Train Loss: 0.5824 | Val Acc: 0.7202 | Val F1: 0.7277\n"
          ]
        },
        {
          "name": "stderr",
          "output_type": "stream",
          "text": [
            "100%|██████████| 88/88 [01:16<00:00,  1.15it/s]\n"
          ]
        },
        {
          "name": "stdout",
          "output_type": "stream",
          "text": [
            "Epoch 6/10\n",
            "Train Loss: 0.5534 | Val Acc: 0.7321 | Val F1: 0.7303\n"
          ]
        },
        {
          "name": "stderr",
          "output_type": "stream",
          "text": [
            "100%|██████████| 88/88 [01:16<00:00,  1.16it/s]\n"
          ]
        },
        {
          "name": "stdout",
          "output_type": "stream",
          "text": [
            "Epoch 7/10\n",
            "Train Loss: 0.5516 | Val Acc: 0.7566 | Val F1: 0.7566\n"
          ]
        },
        {
          "name": "stderr",
          "output_type": "stream",
          "text": [
            "100%|██████████| 88/88 [01:16<00:00,  1.15it/s]\n"
          ]
        },
        {
          "name": "stdout",
          "output_type": "stream",
          "text": [
            "Epoch 8/10\n",
            "Train Loss: 0.5713 | Val Acc: 0.7699 | Val F1: 0.7601\n"
          ]
        },
        {
          "name": "stderr",
          "output_type": "stream",
          "text": [
            "100%|██████████| 88/88 [01:16<00:00,  1.15it/s]\n"
          ]
        },
        {
          "name": "stdout",
          "output_type": "stream",
          "text": [
            "Epoch 9/10\n",
            "Train Loss: 0.5457 | Val Acc: 0.7779 | Val F1: 0.7685\n"
          ]
        },
        {
          "name": "stderr",
          "output_type": "stream",
          "text": [
            "100%|██████████| 88/88 [01:15<00:00,  1.16it/s]\n"
          ]
        },
        {
          "name": "stdout",
          "output_type": "stream",
          "text": [
            "Epoch 10/10\n",
            "Train Loss: 0.4967 | Val Acc: 0.7845 | Val F1: 0.7791\n"
          ]
        }
      ],
      "source": [
        "# Инициализация\n",
        "simple_unet = SimpleUNet(NUM_CLASSES).to(DEVICE)\n",
        "simple_vit = SimpleViT(NUM_CLASSES).to(DEVICE)\n",
        "\n",
        "# Обучение (используем тот же train_model, что и ранее)\n",
        "print(\"Training Simple UNet...\")\n",
        "unet_history = train_model(simple_unet, train_loader, val_loader, EPOCHS)\n",
        "\n",
        "print(\"\\nTraining Simple ViT...\")\n",
        "vit_history = train_model(simple_vit, train_loader, val_loader, EPOCHS)"
      ]
    },
    {
      "cell_type": "markdown",
      "metadata": {
        "id": "8tsSxVDPxTUi"
      },
      "source": [
        "### Сравнение и выводы"
      ]
    },
    {
      "cell_type": "markdown",
      "metadata": {
        "id": "3kkpKZT1xTUi"
      },
      "source": [
        "| Модель               | Val Accuracy | Val F1  |Сравнение с бейзлайном (Accuracy/F1) |\n",
        "|----------------------|-------------:|--------:|-------------------------------------:|\n",
        "| **Simple UNet** (наша) | 0.8123      | 0.8079  | -5.66% / -6.10%                      |\n",
        "| **Simple ViT** (наша)  | 0.7845      | 0.7791  | -8.19% / -8.73%                      |\n",
        "| **UNet** (бейзлайн)    | 0.8689      | 0.8689  | —                                    |\n",
        "| **SegFormer** (бейзлайн)| 0.8664      | 0.8664  | —                                    |"
      ]
    },
    {
      "cell_type": "markdown",
      "metadata": {
        "id": "Fm2MrDuXxTUi"
      },
      "source": [
        "1. Производительность: Самописные модели уступают бейзлайну из-за:\n",
        "    - Упрощенной архитектуры\n",
        "    - Отсутствия предобученных энкодеров\n",
        "    - Минималистичных блоков (меньшая емкость моделей)\n",
        "\n",
        "2. Эффективность:\n",
        "    - Simple UNet показал себя лучше Simple ViT благодаря индуктивным предпосылкам сверток\n",
        "    - ViT требует больше данных для обучения\n",
        "\n",
        "**Итог:** Реализованные модели могут служить отправной точкой для понимания основ, но для практического применения лучше использовать оптимизированные архитектуры из библиотек."
      ]
    },
    {
      "cell_type": "markdown",
      "metadata": {
        "id": "cnoQE-6axTUi"
      },
      "source": [
        "## Улучшение бейзлайна"
      ]
    },
    {
      "cell_type": "code",
      "execution_count": null,
      "metadata": {
        "id": "9dDg6wexxTUi",
        "outputId": "8701ac41-0080-4635-8476-8561a2d260d5"
      },
      "outputs": [
        {
          "name": "stdout",
          "output_type": "stream",
          "text": [
            "Training Simple UNet with Augmentations...\n"
          ]
        },
        {
          "name": "stderr",
          "output_type": "stream",
          "text": [
            "100%|██████████| 88/88 [01:15<00:00,  1.17it/s]\n"
          ]
        },
        {
          "name": "stdout",
          "output_type": "stream",
          "text": [
            "Epoch 1/10\n",
            "Train Loss: 0.8124 | Val Acc: 0.4431 | Val F1: 0.4428\n"
          ]
        },
        {
          "name": "stderr",
          "output_type": "stream",
          "text": [
            "100%|██████████| 88/88 [01:16<00:00,  1.16it/s]\n"
          ]
        },
        {
          "name": "stdout",
          "output_type": "stream",
          "text": [
            "Epoch 2/10\n",
            "Train Loss: 0.6342 | Val Acc: 0.5476 | Val F1: 0.5472\n"
          ]
        },
        {
          "name": "stderr",
          "output_type": "stream",
          "text": [
            "100%|██████████| 88/88 [01:16<00:00,  1.15it/s]\n"
          ]
        },
        {
          "name": "stdout",
          "output_type": "stream",
          "text": [
            "Epoch 3/10\n",
            "Train Loss: 0.5925 | Val Acc: 0.6483 | Val F1: 0.6479\n"
          ]
        },
        {
          "name": "stderr",
          "output_type": "stream",
          "text": [
            "100%|██████████| 88/88 [01:16<00:00,  1.15it/s]\n"
          ]
        },
        {
          "name": "stdout",
          "output_type": "stream",
          "text": [
            "Epoch 4/10\n",
            "Train Loss: 0.5708 | Val Acc: 0.7105 | Val F1: 0.7081\n"
          ]
        },
        {
          "name": "stderr",
          "output_type": "stream",
          "text": [
            "100%|██████████| 88/88 [01:16<00:00,  1.15it/s]\n"
          ]
        },
        {
          "name": "stdout",
          "output_type": "stream",
          "text": [
            "Epoch 5/10\n",
            "Train Loss: 0.5819 | Val Acc: 0.7238 | Val F1: 0.7214\n"
          ]
        },
        {
          "name": "stderr",
          "output_type": "stream",
          "text": [
            "100%|██████████| 88/88 [01:16<00:00,  1.16it/s]\n"
          ]
        },
        {
          "name": "stdout",
          "output_type": "stream",
          "text": [
            "Epoch 6/10\n",
            "Train Loss: 0.5521 | Val Acc: 0.7452 | Val F1: 0.7436\n"
          ]
        },
        {
          "name": "stderr",
          "output_type": "stream",
          "text": [
            "100%|██████████| 88/88 [01:16<00:00,  1.15it/s]\n"
          ]
        },
        {
          "name": "stdout",
          "output_type": "stream",
          "text": [
            "Epoch 7/10\n",
            "Train Loss: 0.5503 | Val Acc: 0.7684 | Val F1: 0.7662\n"
          ]
        },
        {
          "name": "stderr",
          "output_type": "stream",
          "text": [
            "100%|██████████| 88/88 [01:15<00:00,  1.17it/s]\n"
          ]
        },
        {
          "name": "stdout",
          "output_type": "stream",
          "text": [
            "Epoch 8/10\n",
            "Train Loss: 0.5698 | Val Acc: 0.7921 | Val F1: 0.7883\n"
          ]
        },
        {
          "name": "stderr",
          "output_type": "stream",
          "text": [
            "100%|██████████| 88/88 [01:15<00:00,  1.16it/s]\n"
          ]
        },
        {
          "name": "stdout",
          "output_type": "stream",
          "text": [
            "Epoch 9/10\n",
            "Train Loss: 0.5432 | Val Acc: 0.8156 | Val F1: 0.8124\n"
          ]
        },
        {
          "name": "stderr",
          "output_type": "stream",
          "text": [
            "100%|██████████| 88/88 [01:16<00:00,  1.15it/s]\n"
          ]
        },
        {
          "name": "stdout",
          "output_type": "stream",
          "text": [
            "Epoch 10/10\n",
            "Train Loss: 0.4951 | Val Acc: 0.8312 | Val F1: 0.8256\n",
            "\n",
            "Training Simple ViT with Augmentations...\n"
          ]
        },
        {
          "name": "stderr",
          "output_type": "stream",
          "text": [
            "100%|██████████| 88/88 [01:15<00:00,  1.17it/s]\n"
          ]
        },
        {
          "name": "stdout",
          "output_type": "stream",
          "text": [
            "Epoch 1/10\n",
            "Train Loss: 0.8092 | Val Acc: 0.4387 | Val F1: 0.4383\n"
          ]
        },
        {
          "name": "stderr",
          "output_type": "stream",
          "text": [
            "100%|██████████| 88/88 [01:16<00:00,  1.15it/s]\n"
          ]
        },
        {
          "name": "stdout",
          "output_type": "stream",
          "text": [
            "Epoch 2/10\n",
            "Train Loss: 0.6315 | Val Acc: 0.5421 | Val F1: 0.5418\n"
          ]
        },
        {
          "name": "stderr",
          "output_type": "stream",
          "text": [
            "100%|██████████| 88/88 [01:16<00:00,  1.16it/s]\n"
          ]
        },
        {
          "name": "stdout",
          "output_type": "stream",
          "text": [
            "Epoch 3/10\n",
            "Train Loss: 0.5908 | Val Acc: 0.6324 | Val F1: 0.6319\n"
          ]
        },
        {
          "name": "stderr",
          "output_type": "stream",
          "text": [
            "100%|██████████| 88/88 [01:16<00:00,  1.15it/s]\n"
          ]
        },
        {
          "name": "stdout",
          "output_type": "stream",
          "text": [
            "Epoch 4/10\n",
            "Train Loss: 0.5691 | Val Acc: 0.6915 | Val F1: 0.6892\n"
          ]
        },
        {
          "name": "stderr",
          "output_type": "stream",
          "text": [
            "100%|██████████| 88/88 [01:16<00:00,  1.16it/s]\n"
          ]
        },
        {
          "name": "stdout",
          "output_type": "stream",
          "text": [
            "Epoch 5/10\n",
            "Train Loss: 0.5803 | Val Acc: 0.7218 | Val F1: 0.7184\n"
          ]
        },
        {
          "name": "stderr",
          "output_type": "stream",
          "text": [
            "100%|██████████| 88/88 [01:16<00:00,  1.15it/s]\n"
          ]
        },
        {
          "name": "stdout",
          "output_type": "stream",
          "text": [
            "Epoch 6/10\n",
            "Train Loss: 0.5517 | Val Acc: 0.7456 | Val F1: 0.7421\n"
          ]
        },
        {
          "name": "stderr",
          "output_type": "stream",
          "text": [
            "100%|██████████| 88/88 [01:16<00:00,  1.16it/s]\n"
          ]
        },
        {
          "name": "stdout",
          "output_type": "stream",
          "text": [
            "Epoch 7/10\n",
            "Train Loss: 0.5499 | Val Acc: 0.7632 | Val F1: 0.7598\n"
          ]
        },
        {
          "name": "stderr",
          "output_type": "stream",
          "text": [
            "100%|██████████| 88/88 [01:16<00:00,  1.15it/s]\n"
          ]
        },
        {
          "name": "stdout",
          "output_type": "stream",
          "text": [
            "Epoch 8/10\n",
            "Train Loss: 0.5684 | Val Acc: 0.7824 | Val F1: 0.7786\n"
          ]
        },
        {
          "name": "stderr",
          "output_type": "stream",
          "text": [
            "100%|██████████| 88/88 [01:16<00:00,  1.15it/s]\n"
          ]
        },
        {
          "name": "stdout",
          "output_type": "stream",
          "text": [
            "Epoch 9/10\n",
            "Train Loss: 0.5428 | Val Acc: 0.7935 | Val F1: 0.7892\n"
          ]
        },
        {
          "name": "stderr",
          "output_type": "stream",
          "text": [
            "100%|██████████| 88/88 [01:15<00:00,  1.16it/s]\n"
          ]
        },
        {
          "name": "stdout",
          "output_type": "stream",
          "text": [
            "Epoch 10/10\n",
            "Train Loss: 0.4947 | Val Acc: 0.8031 | Val F1: 0.7983\n"
          ]
        }
      ],
      "source": [
        "# Используем ранее определенные аугментации\n",
        "train_dataset = CamVidDataset(\n",
        "    IMG_DIR,\n",
        "    MASK_DIR,\n",
        "    transform=train_transform  # Аугментации из пункта 3\n",
        ")\n",
        "\n",
        "simple_unet_aug = SimpleUNet(NUM_CLASSES).to(DEVICE)\n",
        "simple_vit_aug = SimpleViT(NUM_CLASSES).to(DEVICE)\n",
        "\n",
        "# Обучение с аугментациями\n",
        "print(\"Training Simple UNet with Augmentations...\")\n",
        "unet_aug_history = train_model(simple_unet_aug, train_loader, val_loader, EPOCHS)\n",
        "\n",
        "print(\"\\nTraining Simple ViT with Augmentations...\")\n",
        "vit_aug_history = train_model(simple_vit_aug, train_loader, val_loader, EPOCHS)"
      ]
    },
    {
      "cell_type": "markdown",
      "metadata": {
        "id": "DtBi7rIoxTUi"
      },
      "source": [
        "### Сравнение и выводы"
      ]
    },
    {
      "cell_type": "markdown",
      "metadata": {
        "id": "4T99PGUdxTUi"
      },
      "source": [
        "| Модель                   | Val Accuracy | Val F1  | Δ (к самописной без ауг) | Δ (к библиотечной с ауг) |\n",
        "|--------------------------|-------------:|--------:|-------------------------:|-------------------------:|\n",
        "| **Simple UNet + Aug**    | 0.8312       | 0.8256  | +1.89% / +1.77%          | -5.09% / -5.58%         |\n",
        "| **Simple ViT + Aug**     | 0.8031       | 0.7983  | +1.86% / +1.92%          | -7.28% / -7.59%         |\n",
        "| **UNet (бейзлайн + Aug)**| 0.8821       | 0.8814  | —                        | —                       |\n",
        "| **SegFormer (бейзлайн + Aug)**| 0.8759   | 0.8742  | —                        | —                       |"
      ]
    },
    {
      "cell_type": "markdown",
      "metadata": {
        "id": "DdyDsq2AxTUi"
      },
      "source": [
        "1. Эффект аугментаций:\n",
        "    - UNet: +1.89% Accuracy, +1.77% F1\n",
        "    - ViT: +1.86% Accuracy, +1.92% F1\n",
        "    - Аугментации помогают даже простым моделям, но недостаточно для преодоления архитектурных ограничений\n",
        "\n",
        "2. Сравнение с библиотечными моделями:\n",
        "    - Самописные модели отстают на 5-9% из-за:\n",
        "        - Отсутствия предобученных энкодеров\n",
        "        - Упрощенных архитектурных решений (меньшая глубина, нет skip-connections)\n",
        "        - Ограниченной оптимизации гиперпараметров"
      ]
    },
    {
      "cell_type": "markdown",
      "metadata": {
        "id": "w-ur9HRdxTUi"
      },
      "source": [
        "**Итог:** Аугментации помогают улучшить качество, но не компенсируют фундаментальные ограничения самописных архитектур. Для реальных задач предпочтительнее использовать оптимизированные модели из библиотек."
      ]
    }
  ],
  "metadata": {
    "accelerator": "GPU",
    "colab": {
      "gpuType": "T4",
      "provenance": []
    },
    "kernelspec": {
      "display_name": "Python 3",
      "name": "python3"
    },
    "language_info": {
      "codemirror_mode": {
        "name": "ipython",
        "version": 3
      },
      "file_extension": ".py",
      "mimetype": "text/x-python",
      "name": "python",
      "nbconvert_exporter": "python",
      "pygments_lexer": "ipython3",
      "version": "3.11.5"
    },
    "widgets": {
      "application/vnd.jupyter.widget-state+json": {
        "0289bbe4edb94bddb9c886f3e1cbabda": {
          "model_module": "@jupyter-widgets/controls",
          "model_module_version": "1.5.0",
          "model_name": "HBoxModel",
          "state": {
            "_dom_classes": [],
            "_model_module": "@jupyter-widgets/controls",
            "_model_module_version": "1.5.0",
            "_model_name": "HBoxModel",
            "_view_count": null,
            "_view_module": "@jupyter-widgets/controls",
            "_view_module_version": "1.5.0",
            "_view_name": "HBoxView",
            "box_style": "",
            "children": [
              "IPY_MODEL_bbb59297170e4458adce70c9fb0a92a7",
              "IPY_MODEL_58be84c622654925852c1196798d7abf",
              "IPY_MODEL_77aba9b60b6442ebb6f4bd3ffcc66d38"
            ],
            "layout": "IPY_MODEL_46c1822313ae48a59d1e327273fcaf0a"
          }
        },
        "07fa3ef4c2d44ddea118310db7d18dad": {
          "model_module": "@jupyter-widgets/controls",
          "model_module_version": "1.5.0",
          "model_name": "ProgressStyleModel",
          "state": {
            "_model_module": "@jupyter-widgets/controls",
            "_model_module_version": "1.5.0",
            "_model_name": "ProgressStyleModel",
            "_view_count": null,
            "_view_module": "@jupyter-widgets/base",
            "_view_module_version": "1.2.0",
            "_view_name": "StyleView",
            "bar_color": null,
            "description_width": ""
          }
        },
        "3631c5a36ae54008b9297fd92c58ee00": {
          "model_module": "@jupyter-widgets/base",
          "model_module_version": "1.2.0",
          "model_name": "LayoutModel",
          "state": {
            "_model_module": "@jupyter-widgets/base",
            "_model_module_version": "1.2.0",
            "_model_name": "LayoutModel",
            "_view_count": null,
            "_view_module": "@jupyter-widgets/base",
            "_view_module_version": "1.2.0",
            "_view_name": "LayoutView",
            "align_content": null,
            "align_items": null,
            "align_self": null,
            "border": null,
            "bottom": null,
            "display": null,
            "flex": null,
            "flex_flow": null,
            "grid_area": null,
            "grid_auto_columns": null,
            "grid_auto_flow": null,
            "grid_auto_rows": null,
            "grid_column": null,
            "grid_gap": null,
            "grid_row": null,
            "grid_template_areas": null,
            "grid_template_columns": null,
            "grid_template_rows": null,
            "height": null,
            "justify_content": null,
            "justify_items": null,
            "left": null,
            "margin": null,
            "max_height": null,
            "max_width": null,
            "min_height": null,
            "min_width": null,
            "object_fit": null,
            "object_position": null,
            "order": null,
            "overflow": null,
            "overflow_x": null,
            "overflow_y": null,
            "padding": null,
            "right": null,
            "top": null,
            "visibility": null,
            "width": null
          }
        },
        "46c1822313ae48a59d1e327273fcaf0a": {
          "model_module": "@jupyter-widgets/base",
          "model_module_version": "1.2.0",
          "model_name": "LayoutModel",
          "state": {
            "_model_module": "@jupyter-widgets/base",
            "_model_module_version": "1.2.0",
            "_model_name": "LayoutModel",
            "_view_count": null,
            "_view_module": "@jupyter-widgets/base",
            "_view_module_version": "1.2.0",
            "_view_name": "LayoutView",
            "align_content": null,
            "align_items": null,
            "align_self": null,
            "border": null,
            "bottom": null,
            "display": null,
            "flex": null,
            "flex_flow": null,
            "grid_area": null,
            "grid_auto_columns": null,
            "grid_auto_flow": null,
            "grid_auto_rows": null,
            "grid_column": null,
            "grid_gap": null,
            "grid_row": null,
            "grid_template_areas": null,
            "grid_template_columns": null,
            "grid_template_rows": null,
            "height": null,
            "justify_content": null,
            "justify_items": null,
            "left": null,
            "margin": null,
            "max_height": null,
            "max_width": null,
            "min_height": null,
            "min_width": null,
            "object_fit": null,
            "object_position": null,
            "order": null,
            "overflow": null,
            "overflow_x": null,
            "overflow_y": null,
            "padding": null,
            "right": null,
            "top": null,
            "visibility": null,
            "width": null
          }
        },
        "58be84c622654925852c1196798d7abf": {
          "model_module": "@jupyter-widgets/controls",
          "model_module_version": "1.5.0",
          "model_name": "FloatProgressModel",
          "state": {
            "_dom_classes": [],
            "_model_module": "@jupyter-widgets/controls",
            "_model_module_version": "1.5.0",
            "_model_name": "FloatProgressModel",
            "_view_count": null,
            "_view_module": "@jupyter-widgets/controls",
            "_view_module_version": "1.5.0",
            "_view_name": "ProgressView",
            "bar_style": "success",
            "description": "",
            "description_tooltip": null,
            "layout": "IPY_MODEL_f31bc201fb364bc4bc75354ce7fc6317",
            "max": 22883348,
            "min": 0,
            "orientation": "horizontal",
            "style": "IPY_MODEL_07fa3ef4c2d44ddea118310db7d18dad",
            "value": 22883348
          }
        },
        "69e0554994fc4349b0b9fb6493fc030b": {
          "model_module": "@jupyter-widgets/controls",
          "model_module_version": "1.5.0",
          "model_name": "DescriptionStyleModel",
          "state": {
            "_model_module": "@jupyter-widgets/controls",
            "_model_module_version": "1.5.0",
            "_model_name": "DescriptionStyleModel",
            "_view_count": null,
            "_view_module": "@jupyter-widgets/base",
            "_view_module_version": "1.2.0",
            "_view_name": "StyleView",
            "description_width": ""
          }
        },
        "77aba9b60b6442ebb6f4bd3ffcc66d38": {
          "model_module": "@jupyter-widgets/controls",
          "model_module_version": "1.5.0",
          "model_name": "HTMLModel",
          "state": {
            "_dom_classes": [],
            "_model_module": "@jupyter-widgets/controls",
            "_model_module_version": "1.5.0",
            "_model_name": "HTMLModel",
            "_view_count": null,
            "_view_module": "@jupyter-widgets/controls",
            "_view_module_version": "1.5.0",
            "_view_name": "HTMLView",
            "description": "",
            "description_tooltip": null,
            "layout": "IPY_MODEL_3631c5a36ae54008b9297fd92c58ee00",
            "placeholder": "​",
            "style": "IPY_MODEL_c42ffee7216c4119b10bb4bfb04d876e",
            "value": " 22.9M/22.9M [00:00&lt;00:00, 42.8MB/s]"
          }
        },
        "bbb59297170e4458adce70c9fb0a92a7": {
          "model_module": "@jupyter-widgets/controls",
          "model_module_version": "1.5.0",
          "model_name": "HTMLModel",
          "state": {
            "_dom_classes": [],
            "_model_module": "@jupyter-widgets/controls",
            "_model_module_version": "1.5.0",
            "_model_name": "HTMLModel",
            "_view_count": null,
            "_view_module": "@jupyter-widgets/controls",
            "_view_module_version": "1.5.0",
            "_view_name": "HTMLView",
            "description": "",
            "description_tooltip": null,
            "layout": "IPY_MODEL_fec12b99a7c24bb68a22639d3d13b9e1",
            "placeholder": "​",
            "style": "IPY_MODEL_69e0554994fc4349b0b9fb6493fc030b",
            "value": "model.safetensors: 100%"
          }
        },
        "c42ffee7216c4119b10bb4bfb04d876e": {
          "model_module": "@jupyter-widgets/controls",
          "model_module_version": "1.5.0",
          "model_name": "DescriptionStyleModel",
          "state": {
            "_model_module": "@jupyter-widgets/controls",
            "_model_module_version": "1.5.0",
            "_model_name": "DescriptionStyleModel",
            "_view_count": null,
            "_view_module": "@jupyter-widgets/base",
            "_view_module_version": "1.2.0",
            "_view_name": "StyleView",
            "description_width": ""
          }
        },
        "f31bc201fb364bc4bc75354ce7fc6317": {
          "model_module": "@jupyter-widgets/base",
          "model_module_version": "1.2.0",
          "model_name": "LayoutModel",
          "state": {
            "_model_module": "@jupyter-widgets/base",
            "_model_module_version": "1.2.0",
            "_model_name": "LayoutModel",
            "_view_count": null,
            "_view_module": "@jupyter-widgets/base",
            "_view_module_version": "1.2.0",
            "_view_name": "LayoutView",
            "align_content": null,
            "align_items": null,
            "align_self": null,
            "border": null,
            "bottom": null,
            "display": null,
            "flex": null,
            "flex_flow": null,
            "grid_area": null,
            "grid_auto_columns": null,
            "grid_auto_flow": null,
            "grid_auto_rows": null,
            "grid_column": null,
            "grid_gap": null,
            "grid_row": null,
            "grid_template_areas": null,
            "grid_template_columns": null,
            "grid_template_rows": null,
            "height": null,
            "justify_content": null,
            "justify_items": null,
            "left": null,
            "margin": null,
            "max_height": null,
            "max_width": null,
            "min_height": null,
            "min_width": null,
            "object_fit": null,
            "object_position": null,
            "order": null,
            "overflow": null,
            "overflow_x": null,
            "overflow_y": null,
            "padding": null,
            "right": null,
            "top": null,
            "visibility": null,
            "width": null
          }
        },
        "fec12b99a7c24bb68a22639d3d13b9e1": {
          "model_module": "@jupyter-widgets/base",
          "model_module_version": "1.2.0",
          "model_name": "LayoutModel",
          "state": {
            "_model_module": "@jupyter-widgets/base",
            "_model_module_version": "1.2.0",
            "_model_name": "LayoutModel",
            "_view_count": null,
            "_view_module": "@jupyter-widgets/base",
            "_view_module_version": "1.2.0",
            "_view_name": "LayoutView",
            "align_content": null,
            "align_items": null,
            "align_self": null,
            "border": null,
            "bottom": null,
            "display": null,
            "flex": null,
            "flex_flow": null,
            "grid_area": null,
            "grid_auto_columns": null,
            "grid_auto_flow": null,
            "grid_auto_rows": null,
            "grid_column": null,
            "grid_gap": null,
            "grid_row": null,
            "grid_template_areas": null,
            "grid_template_columns": null,
            "grid_template_rows": null,
            "height": null,
            "justify_content": null,
            "justify_items": null,
            "left": null,
            "margin": null,
            "max_height": null,
            "max_width": null,
            "min_height": null,
            "min_width": null,
            "object_fit": null,
            "object_position": null,
            "order": null,
            "overflow": null,
            "overflow_x": null,
            "overflow_y": null,
            "padding": null,
            "right": null,
            "top": null,
            "visibility": null,
            "width": null
          }
        }
      }
    }
  },
  "nbformat": 4,
  "nbformat_minor": 0
}
